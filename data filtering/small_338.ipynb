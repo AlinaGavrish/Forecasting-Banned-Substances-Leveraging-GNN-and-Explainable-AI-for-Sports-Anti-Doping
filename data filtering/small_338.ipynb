{
 "cells": [
  {
   "cell_type": "code",
   "execution_count": 1,
   "metadata": {},
   "outputs": [
    {
     "data": {
      "application/vnd.jupyter.widget-view+json": {
       "model_id": "b7d94d93e2814233b02d522bffff991f",
       "version_major": 2,
       "version_minor": 0
      },
      "text/plain": [
       "Batches:   0%|          | 0/11 [00:00<?, ?it/s]"
      ]
     },
     "metadata": {},
     "output_type": "display_data"
    },
    {
     "name": "stdout",
     "output_type": "stream",
     "text": [
      "Data saved to CSV files.\n"
     ]
    }
   ],
   "source": [
    "import pandas as pd\n",
    "import numpy as np\n",
    "from sklearn.preprocessing import MultiLabelBinarizer, LabelEncoder\n",
    "from sentence_transformers import SentenceTransformer\n",
    "import torch\n",
    "\n",
    "class SequenceEncoder:\n",
    "    def __init__(self, model_name='all-MiniLM-L6-v2', device=None):\n",
    "        self.device = device\n",
    "        self.model = SentenceTransformer(model_name, device=device)\n",
    "\n",
    "    @torch.no_grad()\n",
    "    def __call__(self, texts):\n",
    "        embeddings = self.model.encode(texts, show_progress_bar=True, convert_to_tensor=True, device=self.device)\n",
    "        return embeddings.cpu()\n",
    "\n",
    "class MolecularFormulaEncoder:\n",
    "    @staticmethod\n",
    "    def formula_to_vector(formula):\n",
    "        elements = ['H', 'He', 'Li', 'Be', 'B', 'C', 'N', 'O', 'F', 'Ne', 'Na', \n",
    "            'Mg', 'Al', 'Si', 'P', 'S', 'Cl', 'K', 'Ca', 'Ti', 'V', 'Cr', \n",
    "            'Mn', 'Fe', 'Co', 'Ni', 'Cu', 'Zn', 'Ga', 'Ge', 'As', 'Se', \n",
    "            'Br', 'Kr', 'Rb', 'Sr', 'Y', 'Zr', 'Nb', 'Mo', 'Tc', 'Ru', \n",
    "            'Pd', 'Ag', 'Cd', 'In', 'Sn', 'Sb', 'Te', 'I', 'Xe', 'Cs', \n",
    "            'Ba', 'La', 'Ce', 'Nd', 'Sm', 'Gd', 'Ho', 'Lu', 'Hf', 'Ta', \n",
    "            'W', 'Re', 'Os', 'Pt', 'Au', 'Hg', 'Tl', 'Pb', 'Bi', 'Ra', 'Ac', 'Bk']\n",
    "        vector = np.zeros(len(elements))\n",
    "        for i, element in enumerate(elements):\n",
    "            count = 0\n",
    "            for j in range(len(formula)):\n",
    "                if formula[j:j+len(element)] == element:\n",
    "                    count = 1\n",
    "                    k = j + len(element)\n",
    "                    while k < len(formula) and formula[k].isdigit():\n",
    "                        count = count * 10 + int(formula[k])\n",
    "                        k += 1\n",
    "                    vector[i] = count\n",
    "        return vector\n",
    "\n",
    "# Initialize encoders\n",
    "sequence_encoder = SequenceEncoder(device='cuda' if torch.cuda.is_available() else 'cpu')\n",
    "label_encoder = LabelEncoder()\n",
    "\n",
    "df = pd.read_csv(\"cleaned_hetero.csv\")\n",
    "\n",
    "df['State'] = df['State'].fillna('').astype(str)\n",
    "df['Groups'] = df['Groups'].fillna('').astype(str)\n",
    "df['Categories'] = df['Categories'].fillna('').astype(str)\n",
    "df['ATC Codes'] = df['ATC Codes'].fillna('').astype(str)\n",
    "df['Targets'] = df['Targets'].fillna('').astype(str)\n",
    "df['Interactions'] = df['Interactions'].fillna('').astype(str)\n",
    "df['Interactions'] = df['Interactions'].apply(lambda x: x.split('; '))\n",
    "\n",
    "# Encode columns\n",
    "encoded_drugbank_id = label_encoder.fit_transform(df['DrugBank ID'])\n",
    "encoded_name = sequence_encoder(df['Name'])\n",
    "encoded_state = label_encoder.fit_transform(df['State'])\n",
    "\n",
    "# Reinitialize MultiLabelBinarizer for each multi-label column\n",
    "mlb_groups = MultiLabelBinarizer()\n",
    "mlb_categories = MultiLabelBinarizer()\n",
    "mlb_atc_codes = MultiLabelBinarizer()\n",
    "mlb_targets = MultiLabelBinarizer()\n",
    "mlb_interactions = MultiLabelBinarizer()\n",
    "\n",
    "encoded_groups = mlb_groups.fit_transform(df['Groups'].str.split('; '))\n",
    "encoded_categories = mlb_categories.fit_transform(df['Categories'].str.split('; '))\n",
    "encoded_atc_codes = mlb_atc_codes.fit_transform(df['ATC Codes'].str.split('; '))\n",
    "encoded_targets = mlb_targets.fit_transform(df['Targets'].str.split('; '))\n",
    "encoded_interactions = mlb_interactions.fit_transform(df['Interactions'])\n",
    "\n",
    "# Encoding Molecular Formula\n",
    "encoded_molecular_formula = np.array([MolecularFormulaEncoder.formula_to_vector(formula) for formula in df['Molecular Formula']])\n",
    "\n",
    "# Encoding Doping\n",
    "encoded_doping = df['Doping'].values\n",
    "\n",
    "# Convert encoded data to DataFrames\n",
    "encoded_name_df = pd.DataFrame(encoded_name.numpy())\n",
    "encoded_drugbank_id_df = pd.DataFrame(encoded_drugbank_id, columns=['DrugBank ID'])\n",
    "encoded_state_df = pd.DataFrame(encoded_state, columns=['State'])\n",
    "encoded_groups_df = pd.DataFrame(encoded_groups, columns=mlb_groups.classes_)\n",
    "encoded_categories_df = pd.DataFrame(encoded_categories, columns=mlb_categories.classes_)\n",
    "encoded_atc_codes_df = pd.DataFrame(encoded_atc_codes, columns=mlb_atc_codes.classes_)\n",
    "encoded_targets_df = pd.DataFrame(encoded_targets, columns=mlb_targets.classes_)\n",
    "encoded_interactions_df = pd.DataFrame(encoded_interactions, columns=mlb_interactions.classes_)\n",
    "encoded_molecular_formula_df = pd.DataFrame(encoded_molecular_formula)\n",
    "encoded_doping_df = pd.DataFrame(encoded_doping, columns=['Doping'])\n",
    "\n",
    "# Save DataFrames to CSV\n",
    "encoded_name_df.to_csv('encoders_small/encoded_name.csv', index=False)\n",
    "encoded_drugbank_id_df.to_csv('encoders_small/encoded_drugbank_id.csv', index = False)\n",
    "encoded_state_df.to_csv('encoders_small/encoded_state.csv', index=False)\n",
    "encoded_groups_df.to_csv('encoders_small/encoded_groups.csv', index=False)\n",
    "encoded_categories_df.to_csv('encoders_small/encoded_categories.csv', index=False)\n",
    "encoded_atc_codes_df.to_csv('encoders_small/encoded_atc_codes.csv', index=False)\n",
    "encoded_targets_df.to_csv('encoders_small/encoded_targets.csv', index=False)\n",
    "encoded_interactions_df.to_csv('encoders_small/encoded_interactions.csv', index=False)\n",
    "encoded_molecular_formula_df.to_csv('encoders_small/encoded_molecular_formula.csv', index=False)\n",
    "encoded_doping_df.to_csv('encoders_small/encoded_doping.csv', index=False)\n",
    "\n",
    "print(\"Data saved to CSV files.\")\n"
   ]
  }
 ],
 "metadata": {
  "kernelspec": {
   "display_name": "Python 3",
   "language": "python",
   "name": "python3"
  },
  "language_info": {
   "codemirror_mode": {
    "name": "ipython",
    "version": 3
   },
   "file_extension": ".py",
   "mimetype": "text/x-python",
   "name": "python",
   "nbconvert_exporter": "python",
   "pygments_lexer": "ipython3",
   "version": "3.10.4"
  }
 },
 "nbformat": 4,
 "nbformat_minor": 2
}
